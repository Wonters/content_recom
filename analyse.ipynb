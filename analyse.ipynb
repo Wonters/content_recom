{
 "cells": [
  {
   "cell_type": "code",
   "execution_count": 30,
   "id": "initial_id",
   "metadata": {
    "ExecuteTime": {
     "end_time": "2025-05-30T21:30:31.017339Z",
     "start_time": "2025-05-30T21:30:30.807971Z"
    },
    "collapsed": true
   },
   "outputs": [],
   "source": [
    "import pandas as pd\n",
    "import os\n",
    "if os.path.exists(\"data/articles.parquet\"):\n",
    "    articles = pd.read_parquet(\"data/articles.parquet\")\n",
    "else:\n",
    "    articles = pd.read_csv(\"data/articles_metadata.csv\")\n",
    "    articles.to_parquet(\"data/articles.parquet\")"
   ]
  },
  {
   "cell_type": "code",
   "execution_count": 2,
   "id": "14261aedcc30428e",
   "metadata": {
    "ExecuteTime": {
     "end_time": "2025-05-30T21:30:32.927715Z",
     "start_time": "2025-05-30T21:30:31.354066Z"
    }
   },
   "outputs": [],
   "source": [
    "import pickle\n",
    "embeddings = pickle.load(open(\"data/articles_embeddings.pickle\", \"rb\"))"
   ]
  },
  {
   "cell_type": "code",
   "execution_count": 3,
   "id": "b2a48b67755b51f6",
   "metadata": {
    "ExecuteTime": {
     "end_time": "2025-05-30T21:30:32.957066Z",
     "start_time": "2025-05-30T21:30:32.947760Z"
    }
   },
   "outputs": [
    {
     "data": {
      "text/plain": [
       "numpy.ndarray"
      ]
     },
     "execution_count": 3,
     "metadata": {},
     "output_type": "execute_result"
    }
   ],
   "source": [
    "type(embeddings)"
   ]
  },
  {
   "cell_type": "code",
   "execution_count": 4,
   "id": "8aa78eeede98cc4",
   "metadata": {
    "ExecuteTime": {
     "end_time": "2025-05-30T21:30:33.027922Z",
     "start_time": "2025-05-30T21:30:33.022421Z"
    }
   },
   "outputs": [
    {
     "name": "stdout",
     "output_type": "stream",
     "text": [
      " Shape of embeddings (364047, 250), Shape of articles (364047, 5)\n"
     ]
    }
   ],
   "source": [
    "print(f\" Shape of embeddings {embeddings.shape}, Shape of articles {articles.shape}\")"
   ]
  },
  {
   "cell_type": "markdown",
   "id": "28273699bcfdbf2c",
   "metadata": {},
   "source": [
    "#### Chaque ligne du tableau d'embeddings correspond à un article"
   ]
  },
  {
   "cell_type": "code",
   "execution_count": 5,
   "id": "2ddc10cc0bb83104",
   "metadata": {
    "ExecuteTime": {
     "end_time": "2025-05-30T21:30:33.119310Z",
     "start_time": "2025-05-30T21:30:33.100517Z"
    }
   },
   "outputs": [
    {
     "data": {
      "text/html": [
       "<div>\n",
       "<style scoped>\n",
       "    .dataframe tbody tr th:only-of-type {\n",
       "        vertical-align: middle;\n",
       "    }\n",
       "\n",
       "    .dataframe tbody tr th {\n",
       "        vertical-align: top;\n",
       "    }\n",
       "\n",
       "    .dataframe thead th {\n",
       "        text-align: right;\n",
       "    }\n",
       "</style>\n",
       "<table border=\"1\" class=\"dataframe\">\n",
       "  <thead>\n",
       "    <tr style=\"text-align: right;\">\n",
       "      <th></th>\n",
       "      <th>article_id</th>\n",
       "      <th>category_id</th>\n",
       "      <th>created_at_ts</th>\n",
       "      <th>publisher_id</th>\n",
       "      <th>words_count</th>\n",
       "    </tr>\n",
       "  </thead>\n",
       "  <tbody>\n",
       "    <tr>\n",
       "      <th>0</th>\n",
       "      <td>0</td>\n",
       "      <td>0</td>\n",
       "      <td>1513144419000</td>\n",
       "      <td>0</td>\n",
       "      <td>168</td>\n",
       "    </tr>\n",
       "    <tr>\n",
       "      <th>1</th>\n",
       "      <td>1</td>\n",
       "      <td>1</td>\n",
       "      <td>1405341936000</td>\n",
       "      <td>0</td>\n",
       "      <td>189</td>\n",
       "    </tr>\n",
       "    <tr>\n",
       "      <th>2</th>\n",
       "      <td>2</td>\n",
       "      <td>1</td>\n",
       "      <td>1408667706000</td>\n",
       "      <td>0</td>\n",
       "      <td>250</td>\n",
       "    </tr>\n",
       "    <tr>\n",
       "      <th>3</th>\n",
       "      <td>3</td>\n",
       "      <td>1</td>\n",
       "      <td>1408468313000</td>\n",
       "      <td>0</td>\n",
       "      <td>230</td>\n",
       "    </tr>\n",
       "    <tr>\n",
       "      <th>4</th>\n",
       "      <td>4</td>\n",
       "      <td>1</td>\n",
       "      <td>1407071171000</td>\n",
       "      <td>0</td>\n",
       "      <td>162</td>\n",
       "    </tr>\n",
       "    <tr>\n",
       "      <th>5</th>\n",
       "      <td>5</td>\n",
       "      <td>1</td>\n",
       "      <td>1407413929000</td>\n",
       "      <td>0</td>\n",
       "      <td>196</td>\n",
       "    </tr>\n",
       "    <tr>\n",
       "      <th>6</th>\n",
       "      <td>6</td>\n",
       "      <td>1</td>\n",
       "      <td>1409896802000</td>\n",
       "      <td>0</td>\n",
       "      <td>203</td>\n",
       "    </tr>\n",
       "    <tr>\n",
       "      <th>7</th>\n",
       "      <td>7</td>\n",
       "      <td>1</td>\n",
       "      <td>1412559620000</td>\n",
       "      <td>0</td>\n",
       "      <td>154</td>\n",
       "    </tr>\n",
       "    <tr>\n",
       "      <th>8</th>\n",
       "      <td>8</td>\n",
       "      <td>1</td>\n",
       "      <td>1414351550000</td>\n",
       "      <td>0</td>\n",
       "      <td>209</td>\n",
       "    </tr>\n",
       "    <tr>\n",
       "      <th>9</th>\n",
       "      <td>9</td>\n",
       "      <td>1</td>\n",
       "      <td>1412526792000</td>\n",
       "      <td>0</td>\n",
       "      <td>181</td>\n",
       "    </tr>\n",
       "  </tbody>\n",
       "</table>\n",
       "</div>"
      ],
      "text/plain": [
       "   article_id  category_id  created_at_ts  publisher_id  words_count\n",
       "0           0            0  1513144419000             0          168\n",
       "1           1            1  1405341936000             0          189\n",
       "2           2            1  1408667706000             0          250\n",
       "3           3            1  1408468313000             0          230\n",
       "4           4            1  1407071171000             0          162\n",
       "5           5            1  1407413929000             0          196\n",
       "6           6            1  1409896802000             0          203\n",
       "7           7            1  1412559620000             0          154\n",
       "8           8            1  1414351550000             0          209\n",
       "9           9            1  1412526792000             0          181"
      ]
     },
     "execution_count": 5,
     "metadata": {},
     "output_type": "execute_result"
    }
   ],
   "source": [
    "articles.head(10)"
   ]
  },
  {
   "cell_type": "code",
   "execution_count": 6,
   "id": "d932847a7863211",
   "metadata": {
    "ExecuteTime": {
     "end_time": "2025-05-30T21:30:34.185527Z",
     "start_time": "2025-05-30T21:30:33.220867Z"
    }
   },
   "outputs": [
    {
     "data": {
      "text/html": [
       "<div>\n",
       "<style scoped>\n",
       "    .dataframe tbody tr th:only-of-type {\n",
       "        vertical-align: middle;\n",
       "    }\n",
       "\n",
       "    .dataframe tbody tr th {\n",
       "        vertical-align: top;\n",
       "    }\n",
       "\n",
       "    .dataframe thead th {\n",
       "        text-align: right;\n",
       "    }\n",
       "</style>\n",
       "<table border=\"1\" class=\"dataframe\">\n",
       "  <thead>\n",
       "    <tr style=\"text-align: right;\">\n",
       "      <th></th>\n",
       "      <th>user_id</th>\n",
       "      <th>session_id</th>\n",
       "      <th>session_start</th>\n",
       "      <th>session_size</th>\n",
       "      <th>click_article_id</th>\n",
       "      <th>click_timestamp</th>\n",
       "      <th>click_environment</th>\n",
       "      <th>click_deviceGroup</th>\n",
       "      <th>click_os</th>\n",
       "      <th>click_country</th>\n",
       "      <th>click_region</th>\n",
       "      <th>click_referrer_type</th>\n",
       "    </tr>\n",
       "    <tr>\n",
       "      <th>index</th>\n",
       "      <th></th>\n",
       "      <th></th>\n",
       "      <th></th>\n",
       "      <th></th>\n",
       "      <th></th>\n",
       "      <th></th>\n",
       "      <th></th>\n",
       "      <th></th>\n",
       "      <th></th>\n",
       "      <th></th>\n",
       "      <th></th>\n",
       "      <th></th>\n",
       "    </tr>\n",
       "  </thead>\n",
       "  <tbody>\n",
       "    <tr>\n",
       "      <th>0</th>\n",
       "      <td>93863</td>\n",
       "      <td>1507865792177843</td>\n",
       "      <td>1507865792000</td>\n",
       "      <td>2</td>\n",
       "      <td>96210</td>\n",
       "      <td>1507865832925</td>\n",
       "      <td>4</td>\n",
       "      <td>3</td>\n",
       "      <td>2</td>\n",
       "      <td>1</td>\n",
       "      <td>21</td>\n",
       "      <td>2</td>\n",
       "    </tr>\n",
       "    <tr>\n",
       "      <th>1</th>\n",
       "      <td>93863</td>\n",
       "      <td>1507865792177843</td>\n",
       "      <td>1507865792000</td>\n",
       "      <td>2</td>\n",
       "      <td>158094</td>\n",
       "      <td>1507865862925</td>\n",
       "      <td>4</td>\n",
       "      <td>3</td>\n",
       "      <td>2</td>\n",
       "      <td>1</td>\n",
       "      <td>21</td>\n",
       "      <td>2</td>\n",
       "    </tr>\n",
       "    <tr>\n",
       "      <th>2</th>\n",
       "      <td>294036</td>\n",
       "      <td>1507865795185844</td>\n",
       "      <td>1507865795000</td>\n",
       "      <td>2</td>\n",
       "      <td>20691</td>\n",
       "      <td>1507865819095</td>\n",
       "      <td>4</td>\n",
       "      <td>3</td>\n",
       "      <td>20</td>\n",
       "      <td>1</td>\n",
       "      <td>9</td>\n",
       "      <td>2</td>\n",
       "    </tr>\n",
       "    <tr>\n",
       "      <th>3</th>\n",
       "      <td>294036</td>\n",
       "      <td>1507865795185844</td>\n",
       "      <td>1507865795000</td>\n",
       "      <td>2</td>\n",
       "      <td>96210</td>\n",
       "      <td>1507865849095</td>\n",
       "      <td>4</td>\n",
       "      <td>3</td>\n",
       "      <td>20</td>\n",
       "      <td>1</td>\n",
       "      <td>9</td>\n",
       "      <td>2</td>\n",
       "    </tr>\n",
       "    <tr>\n",
       "      <th>4</th>\n",
       "      <td>77136</td>\n",
       "      <td>1507865796257845</td>\n",
       "      <td>1507865796000</td>\n",
       "      <td>2</td>\n",
       "      <td>336245</td>\n",
       "      <td>1507866133178</td>\n",
       "      <td>4</td>\n",
       "      <td>3</td>\n",
       "      <td>2</td>\n",
       "      <td>1</td>\n",
       "      <td>25</td>\n",
       "      <td>2</td>\n",
       "    </tr>\n",
       "    <tr>\n",
       "      <th>5</th>\n",
       "      <td>77136</td>\n",
       "      <td>1507865796257845</td>\n",
       "      <td>1507865796000</td>\n",
       "      <td>2</td>\n",
       "      <td>96210</td>\n",
       "      <td>1507866163178</td>\n",
       "      <td>4</td>\n",
       "      <td>3</td>\n",
       "      <td>2</td>\n",
       "      <td>1</td>\n",
       "      <td>25</td>\n",
       "      <td>2</td>\n",
       "    </tr>\n",
       "    <tr>\n",
       "      <th>6</th>\n",
       "      <td>16921</td>\n",
       "      <td>1507865798301846</td>\n",
       "      <td>1507865798000</td>\n",
       "      <td>2</td>\n",
       "      <td>159197</td>\n",
       "      <td>1507865858065</td>\n",
       "      <td>4</td>\n",
       "      <td>1</td>\n",
       "      <td>17</td>\n",
       "      <td>1</td>\n",
       "      <td>9</td>\n",
       "      <td>1</td>\n",
       "    </tr>\n",
       "    <tr>\n",
       "      <th>7</th>\n",
       "      <td>16921</td>\n",
       "      <td>1507865798301846</td>\n",
       "      <td>1507865798000</td>\n",
       "      <td>2</td>\n",
       "      <td>337441</td>\n",
       "      <td>1507865888065</td>\n",
       "      <td>4</td>\n",
       "      <td>1</td>\n",
       "      <td>17</td>\n",
       "      <td>1</td>\n",
       "      <td>9</td>\n",
       "      <td>1</td>\n",
       "    </tr>\n",
       "    <tr>\n",
       "      <th>8</th>\n",
       "      <td>28126</td>\n",
       "      <td>1507865802651847</td>\n",
       "      <td>1507865802000</td>\n",
       "      <td>4</td>\n",
       "      <td>96210</td>\n",
       "      <td>1507865841576</td>\n",
       "      <td>4</td>\n",
       "      <td>1</td>\n",
       "      <td>17</td>\n",
       "      <td>1</td>\n",
       "      <td>25</td>\n",
       "      <td>2</td>\n",
       "    </tr>\n",
       "    <tr>\n",
       "      <th>9</th>\n",
       "      <td>28126</td>\n",
       "      <td>1507865802651847</td>\n",
       "      <td>1507865802000</td>\n",
       "      <td>4</td>\n",
       "      <td>159196</td>\n",
       "      <td>1507867247894</td>\n",
       "      <td>4</td>\n",
       "      <td>1</td>\n",
       "      <td>17</td>\n",
       "      <td>1</td>\n",
       "      <td>25</td>\n",
       "      <td>1</td>\n",
       "    </tr>\n",
       "  </tbody>\n",
       "</table>\n",
       "</div>"
      ],
      "text/plain": [
       "       user_id        session_id  session_start  session_size  \\\n",
       "index                                                           \n",
       "0        93863  1507865792177843  1507865792000             2   \n",
       "1        93863  1507865792177843  1507865792000             2   \n",
       "2       294036  1507865795185844  1507865795000             2   \n",
       "3       294036  1507865795185844  1507865795000             2   \n",
       "4        77136  1507865796257845  1507865796000             2   \n",
       "5        77136  1507865796257845  1507865796000             2   \n",
       "6        16921  1507865798301846  1507865798000             2   \n",
       "7        16921  1507865798301846  1507865798000             2   \n",
       "8        28126  1507865802651847  1507865802000             4   \n",
       "9        28126  1507865802651847  1507865802000             4   \n",
       "\n",
       "       click_article_id  click_timestamp  click_environment  \\\n",
       "index                                                         \n",
       "0                 96210    1507865832925                  4   \n",
       "1                158094    1507865862925                  4   \n",
       "2                 20691    1507865819095                  4   \n",
       "3                 96210    1507865849095                  4   \n",
       "4                336245    1507866133178                  4   \n",
       "5                 96210    1507866163178                  4   \n",
       "6                159197    1507865858065                  4   \n",
       "7                337441    1507865888065                  4   \n",
       "8                 96210    1507865841576                  4   \n",
       "9                159196    1507867247894                  4   \n",
       "\n",
       "       click_deviceGroup  click_os  click_country  click_region  \\\n",
       "index                                                             \n",
       "0                      3         2              1            21   \n",
       "1                      3         2              1            21   \n",
       "2                      3        20              1             9   \n",
       "3                      3        20              1             9   \n",
       "4                      3         2              1            25   \n",
       "5                      3         2              1            25   \n",
       "6                      1        17              1             9   \n",
       "7                      1        17              1             9   \n",
       "8                      1        17              1            25   \n",
       "9                      1        17              1            25   \n",
       "\n",
       "       click_referrer_type  \n",
       "index                       \n",
       "0                        2  \n",
       "1                        2  \n",
       "2                        2  \n",
       "3                        2  \n",
       "4                        2  \n",
       "5                        2  \n",
       "6                        1  \n",
       "7                        1  \n",
       "8                        2  \n",
       "9                        1  "
      ]
     },
     "execution_count": 6,
     "metadata": {},
     "output_type": "execute_result"
    }
   ],
   "source": [
    "import os\n",
    "import glob\n",
    "list_clicks = []\n",
    "if os.path.exists(\"data/clicks.parquet\"):\n",
    "    df_clicks = pd.read_parquet(\"data/clicks.parquet\")\n",
    "else:\n",
    "    for click_path in glob.glob(\"data/clicks/clicks_hour_*.csv\"):\n",
    "        list_clicks.append(pd.read_csv(click_path))\n",
    "    df_clicks= pd.concat(list_clicks)\n",
    "    df_clicks.to_parquet('data/clicks.parquet')\n",
    "df_clicks.head(10)"
   ]
  },
  {
   "cell_type": "code",
   "execution_count": 7,
   "id": "ef1f38643ab32a89",
   "metadata": {
    "ExecuteTime": {
     "end_time": "2025-05-30T21:30:34.317557Z",
     "start_time": "2025-05-30T21:30:34.311491Z"
    }
   },
   "outputs": [
    {
     "data": {
      "text/plain": [
       "(2988181, 12)"
      ]
     },
     "execution_count": 7,
     "metadata": {},
     "output_type": "execute_result"
    }
   ],
   "source": [
    "import seaborn as sns\n",
    "df_clicks.shape"
   ]
  },
  {
   "cell_type": "code",
   "execution_count": 8,
   "id": "e4ec420124c3c115",
   "metadata": {
    "ExecuteTime": {
     "end_time": "2025-05-30T21:30:34.588632Z",
     "start_time": "2025-05-30T21:30:34.522374Z"
    }
   },
   "outputs": [
    {
     "name": "stdout",
     "output_type": "stream",
     "text": [
      "Nombre d'utilisateurs avec les informations de click 322897\n"
     ]
    }
   ],
   "source": [
    "print(f\"Nombre d'utilisateurs avec les informations de click {df_clicks['user_id'].unique().shape[0]}\")"
   ]
  },
  {
   "cell_type": "code",
   "execution_count": 9,
   "id": "fb20e3027f8450ba",
   "metadata": {
    "ExecuteTime": {
     "end_time": "2025-05-30T21:30:34.729362Z",
     "start_time": "2025-05-30T21:30:34.706980Z"
    }
   },
   "outputs": [
    {
     "name": "stdout",
     "output_type": "stream",
     "text": [
      "Nombre d'articles 364047\n"
     ]
    }
   ],
   "source": [
    "print(f\"Nombre d'articles {articles['article_id'].unique().shape[0]}\")"
   ]
  },
  {
   "cell_type": "code",
   "execution_count": 12,
   "id": "b24fa163576865d3",
   "metadata": {
    "ExecuteTime": {
     "end_time": "2025-05-30T21:30:34.926043Z",
     "start_time": "2025-05-30T21:30:34.772727Z"
    }
   },
   "outputs": [
    {
     "name": "stdout",
     "output_type": "stream",
     "text": [
      "Nombre d'utilisateurs avec plus de 100 clicks 1112\n"
     ]
    }
   ],
   "source": [
    "nbr_clicks = df_clicks['user_id'].value_counts()\n",
    "print(f\"Nombre d'utilisateurs avec plus de 100 clicks {nbr_clicks[nbr_clicks>100].shape[0]}\")"
   ]
  },
  {
   "cell_type": "code",
   "execution_count": 13,
   "id": "d35a110e551ec670",
   "metadata": {
    "ExecuteTime": {
     "end_time": "2025-05-30T21:30:37.462388Z",
     "start_time": "2025-05-30T21:30:35.009972Z"
    }
   },
   "outputs": [],
   "source": [
    "articles_clicks_per_user =df_clicks[['user_id','click_article_id']].assign(rating=1).groupby(['user_id','click_article_id'], as_index=False).agg({'rating':'sum'})"
   ]
  },
  {
   "cell_type": "code",
   "execution_count": 14,
   "id": "3fe09e29cd4b90ec",
   "metadata": {
    "ExecuteTime": {
     "end_time": "2025-05-30T21:30:37.499691Z",
     "start_time": "2025-05-30T21:30:37.488194Z"
    }
   },
   "outputs": [
    {
     "data": {
      "text/plain": [
       "33"
      ]
     },
     "execution_count": 14,
     "metadata": {},
     "output_type": "execute_result"
    }
   ],
   "source": [
    "articles_clicks_per_user.rating.max()"
   ]
  },
  {
   "cell_type": "code",
   "execution_count": 15,
   "id": "f7fc3f08192984a4",
   "metadata": {
    "ExecuteTime": {
     "end_time": "2025-05-30T21:30:37.567391Z",
     "start_time": "2025-05-30T21:30:37.556694Z"
    }
   },
   "outputs": [
    {
     "data": {
      "text/html": [
       "<div>\n",
       "<style scoped>\n",
       "    .dataframe tbody tr th:only-of-type {\n",
       "        vertical-align: middle;\n",
       "    }\n",
       "\n",
       "    .dataframe tbody tr th {\n",
       "        vertical-align: top;\n",
       "    }\n",
       "\n",
       "    .dataframe thead th {\n",
       "        text-align: right;\n",
       "    }\n",
       "</style>\n",
       "<table border=\"1\" class=\"dataframe\">\n",
       "  <thead>\n",
       "    <tr style=\"text-align: right;\">\n",
       "      <th></th>\n",
       "      <th>user_id</th>\n",
       "      <th>click_article_id</th>\n",
       "      <th>rating</th>\n",
       "    </tr>\n",
       "  </thead>\n",
       "  <tbody>\n",
       "    <tr>\n",
       "      <th>0</th>\n",
       "      <td>0</td>\n",
       "      <td>68866</td>\n",
       "      <td>1</td>\n",
       "    </tr>\n",
       "    <tr>\n",
       "      <th>1</th>\n",
       "      <td>0</td>\n",
       "      <td>87205</td>\n",
       "      <td>1</td>\n",
       "    </tr>\n",
       "    <tr>\n",
       "      <th>2</th>\n",
       "      <td>0</td>\n",
       "      <td>87224</td>\n",
       "      <td>1</td>\n",
       "    </tr>\n",
       "    <tr>\n",
       "      <th>3</th>\n",
       "      <td>0</td>\n",
       "      <td>96755</td>\n",
       "      <td>1</td>\n",
       "    </tr>\n",
       "    <tr>\n",
       "      <th>4</th>\n",
       "      <td>0</td>\n",
       "      <td>157541</td>\n",
       "      <td>1</td>\n",
       "    </tr>\n",
       "    <tr>\n",
       "      <th>5</th>\n",
       "      <td>0</td>\n",
       "      <td>160158</td>\n",
       "      <td>1</td>\n",
       "    </tr>\n",
       "    <tr>\n",
       "      <th>6</th>\n",
       "      <td>0</td>\n",
       "      <td>233470</td>\n",
       "      <td>1</td>\n",
       "    </tr>\n",
       "    <tr>\n",
       "      <th>7</th>\n",
       "      <td>0</td>\n",
       "      <td>313996</td>\n",
       "      <td>1</td>\n",
       "    </tr>\n",
       "    <tr>\n",
       "      <th>8</th>\n",
       "      <td>1</td>\n",
       "      <td>36162</td>\n",
       "      <td>1</td>\n",
       "    </tr>\n",
       "    <tr>\n",
       "      <th>9</th>\n",
       "      <td>1</td>\n",
       "      <td>59758</td>\n",
       "      <td>1</td>\n",
       "    </tr>\n",
       "  </tbody>\n",
       "</table>\n",
       "</div>"
      ],
      "text/plain": [
       "   user_id  click_article_id  rating\n",
       "0        0             68866       1\n",
       "1        0             87205       1\n",
       "2        0             87224       1\n",
       "3        0             96755       1\n",
       "4        0            157541       1\n",
       "5        0            160158       1\n",
       "6        0            233470       1\n",
       "7        0            313996       1\n",
       "8        1             36162       1\n",
       "9        1             59758       1"
      ]
     },
     "execution_count": 15,
     "metadata": {},
     "output_type": "execute_result"
    }
   ],
   "source": [
    "articles_clicks_per_user.head(10)"
   ]
  },
  {
   "cell_type": "code",
   "execution_count": 16,
   "id": "e72c4f0980112fce",
   "metadata": {
    "ExecuteTime": {
     "end_time": "2025-05-30T21:45:30.222446Z",
     "start_time": "2025-05-30T21:45:24.478308Z"
    }
   },
   "outputs": [
    {
     "data": {
      "text/plain": [
       "<Axes: ylabel='rating'>"
      ]
     },
     "execution_count": 16,
     "metadata": {},
     "output_type": "execute_result"
    },
    {
     "data": {
      "image/png": "[encoded data removed]",
      "text/plain": [
       "<Figure size 1500x500 with 2 Axes>"
      ]
     },
     "metadata": {},
     "output_type": "display_data"
    }
   ],
   "source": [
    "import seaborn as sns\n",
    "import matplotlib.pyplot as plt\n",
    "fig, ax = plt.subplots(1, 2, figsize=(15, 5))\n",
    "sns.boxplot(articles_clicks_per_user['rating'], ax=ax[0])\n",
    "sns.boxplot(articles_clicks_per_user.loc[articles_clicks_per_user.rating>5,'rating'], ax=ax[1])"
   ]
  },
  {
   "cell_type": "code",
   "execution_count": 28,
   "id": "377d1c86",
   "metadata": {},
   "outputs": [
    {
     "data": {
      "text/plain": [
       "Index([2520, 2546, 10188, 14073, 16280, 26751, 33937, 65739, 188046], dtype='int64', name='user_id')"
      ]
     },
     "execution_count": 28,
     "metadata": {},
     "output_type": "execute_result"
    }
   ],
   "source": [
    "articles_clicks_per_user[articles_clicks_per_user.rating>10].groupby('user_id').agg({'rating':'sum'}).index"
   ]
  },
  {
   "cell_type": "markdown",
   "id": "38d63bc3381a6414",
   "metadata": {},
   "source": [
    "#### Classes déséquilibrées : la majorité des clicks par articles sont de 1-3"
   ]
  },
  {
   "cell_type": "code",
   "execution_count": 17,
   "id": "be3e5799a91c2ca0",
   "metadata": {
    "ExecuteTime": {
     "end_time": "2025-05-30T21:50:53.393671Z",
     "start_time": "2025-05-30T21:50:53.379993Z"
    }
   },
   "outputs": [],
   "source": [
    "from surprise import Dataset, Reader, SVD\n",
    "from surprise.model_selection import train_test_split\n",
    "articles_clickuser_filtered =articles_clicks_per_user[articles_clicks_per_user.rating>3]\n",
    "# définir le format : ratings entre 0 et 33\n",
    "reader = Reader(rating_scale=(1, 33))\n",
    "data = Dataset.load_from_df(articles_clickuser_filtered, reader)\n",
    "\n",
    "# séparer train/test (facultatif si vous voulez évaluer)\n",
    "trainset, testset = train_test_split(data, test_size=0.2, random_state=42)"
   ]
  },
  {
   "cell_type": "code",
   "execution_count": 18,
   "id": "58e655ada20cf14c",
   "metadata": {
    "ExecuteTime": {
     "end_time": "2025-05-30T21:50:57.371350Z",
     "start_time": "2025-05-30T21:50:57.365216Z"
    }
   },
   "outputs": [
    {
     "data": {
      "text/plain": [
       "5.157221206581353"
      ]
     },
     "execution_count": 18,
     "metadata": {},
     "output_type": "execute_result"
    }
   ],
   "source": [
    "articles_clickuser_filtered['rating'].mean()"
   ]
  },
  {
   "cell_type": "markdown",
   "id": "14ab41a228ed8f03",
   "metadata": {},
   "source": [
    "#### On va trouver le user avec le plus de clicks"
   ]
  },
  {
   "cell_type": "code",
   "execution_count": 19,
   "id": "435eae89d877222d",
   "metadata": {
    "ExecuteTime": {
     "end_time": "2025-05-30T21:30:43.682274Z",
     "start_time": "2025-05-30T21:30:43.667783Z"
    }
   },
   "outputs": [
    {
     "data": {
      "text/html": [
       "<div>\n",
       "<style scoped>\n",
       "    .dataframe tbody tr th:only-of-type {\n",
       "        vertical-align: middle;\n",
       "    }\n",
       "\n",
       "    .dataframe tbody tr th {\n",
       "        vertical-align: top;\n",
       "    }\n",
       "\n",
       "    .dataframe thead th {\n",
       "        text-align: right;\n",
       "    }\n",
       "</style>\n",
       "<table border=\"1\" class=\"dataframe\">\n",
       "  <thead>\n",
       "    <tr style=\"text-align: right;\">\n",
       "      <th></th>\n",
       "      <th>user_id</th>\n",
       "      <th>click_article_id</th>\n",
       "      <th>rating</th>\n",
       "    </tr>\n",
       "  </thead>\n",
       "  <tbody>\n",
       "    <tr>\n",
       "      <th>349859</th>\n",
       "      <td>16280</td>\n",
       "      <td>43032</td>\n",
       "      <td>31</td>\n",
       "    </tr>\n",
       "    <tr>\n",
       "      <th>349865</th>\n",
       "      <td>16280</td>\n",
       "      <td>68851</td>\n",
       "      <td>33</td>\n",
       "    </tr>\n",
       "    <tr>\n",
       "      <th>349924</th>\n",
       "      <td>16280</td>\n",
       "      <td>237071</td>\n",
       "      <td>33</td>\n",
       "    </tr>\n",
       "    <tr>\n",
       "      <th>349969</th>\n",
       "      <td>16280</td>\n",
       "      <td>363925</td>\n",
       "      <td>33</td>\n",
       "    </tr>\n",
       "  </tbody>\n",
       "</table>\n",
       "</div>"
      ],
      "text/plain": [
       "        user_id  click_article_id  rating\n",
       "349859    16280             43032      31\n",
       "349865    16280             68851      33\n",
       "349924    16280            237071      33\n",
       "349969    16280            363925      33"
      ]
     },
     "execution_count": 19,
     "metadata": {},
     "output_type": "execute_result"
    }
   ],
   "source": [
    "articles_clicks_per_user[articles_clicks_per_user.rating>30]"
   ]
  },
  {
   "cell_type": "code",
   "execution_count": 20,
   "id": "e9b0b8d8fdc04c57",
   "metadata": {
    "ExecuteTime": {
     "end_time": "2025-05-30T21:51:01.743833Z",
     "start_time": "2025-05-30T21:51:01.733145Z"
    }
   },
   "outputs": [
    {
     "name": "stdout",
     "output_type": "stream",
     "text": [
      "RMSE: 1.3477\n",
      "RMSE = 1.347704865848684\n"
     ]
    }
   ],
   "source": [
    "algo = SVD(n_factors=50, n_epochs=20, lr_all=0.005, reg_all=0.02)\n",
    "algo.fit(trainset)\n",
    "# évaluation (RMSE) si on veut\n",
    "predictions = algo.test(testset)\n",
    "from surprise import accuracy\n",
    "print(\"RMSE =\", accuracy.rmse(predictions))"
   ]
  },
  {
   "cell_type": "code",
   "execution_count": 22,
   "id": "79aa3ebc",
   "metadata": {},
   "outputs": [],
   "source": [
    "pickle.dump(algo, open('model.pkl', 'wb'))"
   ]
  },
  {
   "cell_type": "code",
   "execution_count": 58,
   "id": "51adbaee015e3939",
   "metadata": {
    "ExecuteTime": {
     "end_time": "2025-05-30T21:51:04.385504Z",
     "start_time": "2025-05-30T21:51:04.349021Z"
    }
   },
   "outputs": [
    {
     "name": "stdout",
     "output_type": "stream",
     "text": [
      "Evaluating RMSE, MAE of algorithm SVD on 5 split(s).\n",
      "\n",
      "                  Fold 1  Fold 2  Fold 3  Fold 4  Fold 5  Mean    Std     \n",
      "RMSE (testset)    1.6989  3.5989  3.2275  2.7004  1.9005  2.6252  0.7348  \n",
      "MAE (testset)     1.1692  1.5257  1.3310  1.3659  1.3387  1.3461  0.1133  \n",
      "Fit time          0.00    0.00    0.00    0.00    0.00    0.00    0.00    \n",
      "Test time         0.00    0.00    0.00    0.00    0.00    0.00    0.00    \n",
      "RMSE moyen : 2.6252 ± 0.7348\n"
     ]
    }
   ],
   "source": [
    "from surprise.model_selection import cross_validate\n",
    "results = cross_validate(algo, data, measures=['RMSE', 'MAE'], cv=5, verbose=True)\n",
    "print(f\"RMSE moyen : {results['test_rmse'].mean():.4f} ± {results['test_rmse'].std():.4f}\")"
   ]
  },
  {
   "cell_type": "code",
   "execution_count": 21,
   "id": "8d828d1d67e2ea20",
   "metadata": {
    "ExecuteTime": {
     "end_time": "2025-05-30T21:30:47.008950Z",
     "start_time": "2025-05-30T21:30:43.972276Z"
    }
   },
   "outputs": [
    {
     "name": "stdout",
     "output_type": "stream",
     "text": [
      "            category_id  created_at_ts  publisher_id  words_count\n",
      "article_id                                                       \n",
      "96173               209  1502368298000             0          204\n",
      "166596              289  1500891937000             0          149\n",
      "173375              299  1507061279000             0          163\n",
      "237807              375  1507359658000             0          162\n",
      "211863              340  1505973657000             0          190\n"
     ]
    }
   ],
   "source": [
    "def recommander_5(id_user, algo, df_meta, df_click_rating):\n",
    "    all_items = df_meta[\"article_id\"].unique()\n",
    "    seen = set(df_click_rating.loc[df_click_rating.user_id==id_user, \"click_article_id\"])\n",
    "    candidates = [i for i in all_items if i not in seen]\n",
    "    preds = [ (i, algo.predict(id_user, i).est) for i in candidates ]\n",
    "    top5 = sorted(preds, key=lambda x: x[1], reverse=True)[:5]\n",
    "    return df_meta.set_index(\"article_id\").loc[[i for i,_ in top5]]\n",
    "recos = recommander_5(16280, algo, articles, articles_clicks_per_user)\n",
    "print(recos)"
   ]
  },
  {
   "cell_type": "code",
   "execution_count": 59,
   "id": "74e5f3728bb317ae",
   "metadata": {
    "ExecuteTime": {
     "end_time": "2025-05-30T21:51:38.048357Z",
     "start_time": "2025-05-30T21:51:37.051485Z"
    }
   },
   "outputs": [],
   "source": [
    "from collections import defaultdict\n",
    "# --- on construit l’anti-testset pour générer des prédictions sur tous les items non vus ---\n",
    "anti_testset = trainset.build_anti_testset()\n",
    "predictions = algo.test(anti_testset)"
   ]
  },
  {
   "cell_type": "code",
   "execution_count": 23,
   "id": "31fd4d7e3d0d0e4e",
   "metadata": {
    "ExecuteTime": {
     "end_time": "2025-05-30T21:30:47.116216Z",
     "start_time": "2025-05-30T21:30:47.110796Z"
    }
   },
   "outputs": [
    {
     "data": {
      "text/plain": [
       "Prediction(uid=48642, iid=158046, r_ui=9.344827586206897, est=9.331310757771664, details={'was_impossible': False})"
      ]
     },
     "execution_count": 23,
     "metadata": {},
     "output_type": "execute_result"
    }
   ],
   "source": [
    "predictions[0]"
   ]
  },
  {
   "cell_type": "code",
   "execution_count": 60,
   "id": "fb03b9727e6f6d0f",
   "metadata": {
    "ExecuteTime": {
     "end_time": "2025-05-30T21:51:41.068676Z",
     "start_time": "2025-05-30T21:51:41.063066Z"
    }
   },
   "outputs": [
    {
     "data": {
      "text/plain": [
       "80403"
      ]
     },
     "execution_count": 60,
     "metadata": {},
     "output_type": "execute_result"
    }
   ],
   "source": [
    "len(predictions)"
   ]
  },
  {
   "cell_type": "code",
   "execution_count": 61,
   "id": "5b9ac6268dcf78a2",
   "metadata": {
    "ExecuteTime": {
     "end_time": "2025-05-30T21:51:46.097004Z",
     "start_time": "2025-05-30T21:51:46.027893Z"
    }
   },
   "outputs": [
    {
     "name": "stdout",
     "output_type": "stream",
     "text": [
      "Precision@5 = 0.000, Recall@5 = 0.000\n"
     ]
    }
   ],
   "source": [
    "\n",
    "def get_top_n(preds, n=5):\n",
    "    top_n = defaultdict(list)\n",
    "    for uid, iid, true_r, est, _ in preds:\n",
    "        top_n[uid].append((iid, est))\n",
    "    for uid, user_ratings in top_n.items():\n",
    "        user_ratings.sort(key=lambda x: x[1], reverse=True)\n",
    "        top_n[uid] = [iid for iid, _ in user_ratings[:n]]\n",
    "    return top_n\n",
    "\n",
    "top_n = get_top_n(predictions, n=5)\n",
    "\n",
    "# --- construire la vérité terrain à partir du testset ---\n",
    "left_out = defaultdict(list)\n",
    "for uid, iid, true_r in testset:\n",
    "    #todo: faux, vrai dans le cas 0,1 ici 1,33\n",
    "    if true_r > 0:\n",
    "        left_out[uid].append(iid)\n",
    "\n",
    "# --- calcul Precision@K et Recall@K ---\n",
    "def precision_recall_at_k(top_n, left_out, k=5):\n",
    "    precisions = []\n",
    "    recalls = []\n",
    "    for uid, true_items in left_out.items():\n",
    "        rec_items = top_n.get(uid, [])\n",
    "        hit_count = len(set(rec_items) & set(true_items))\n",
    "        precisions.append(hit_count / k)\n",
    "        recalls.append(hit_count / len(true_items))\n",
    "    return sum(precisions) / len(precisions), sum(recalls) / len(recalls)\n",
    "\n",
    "prec, rec = precision_recall_at_k(top_n, left_out, k=5)\n",
    "print(f\"Precision@5 = {prec:.3f}, Recall@5 = {rec:.3f}\")"
   ]
  },
  {
   "cell_type": "markdown",
   "id": "47b5a00575f6f0ec",
   "metadata": {},
   "source": [
    "#### Similarité Cosinus sur les embeddings des articles\n",
    "##### Abandonné, trop long, même avec PCA"
   ]
  },
  {
   "cell_type": "code",
   "execution_count": 26,
   "id": "146132788a4cabe2",
   "metadata": {
    "ExecuteTime": {
     "end_time": "2025-05-30T21:30:48.444635Z",
     "start_time": "2025-05-30T21:30:47.367259Z"
    }
   },
   "outputs": [
    {
     "data": {
      "text/plain": [
       "(364047, 5)"
      ]
     },
     "execution_count": 26,
     "metadata": {},
     "output_type": "execute_result"
    }
   ],
   "source": [
    "from sklearn.metrics.pairwise import cosine_similarity\n",
    "from sklearn.decomposition import PCA\n",
    "pca = PCA(n_components=5, random_state=42)\n",
    "emb_pca = pca.fit_transform(embeddings)\n",
    "emb_pca.shape\n",
    "#sim_matrix = cosine_similarity(emb_pca)"
   ]
  },
  {
   "cell_type": "code",
   "execution_count": 27,
   "id": "b72491c825db5c9a",
   "metadata": {
    "ExecuteTime": {
     "end_time": "2025-05-30T21:30:48.589704Z",
     "start_time": "2025-05-30T21:30:48.489886Z"
    }
   },
   "outputs": [],
   "source": [
    "# mapping id ↔ index\n",
    "idx_map = {aid:i for i,aid in enumerate(articles.article_id)}"
   ]
  },
  {
   "cell_type": "code",
   "execution_count": 28,
   "id": "4899eb86b9e60724",
   "metadata": {
    "ExecuteTime": {
     "end_time": "2025-05-30T21:31:11.018963Z",
     "start_time": "2025-05-30T21:30:48.641473Z"
    }
   },
   "outputs": [],
   "source": [
    "import hnswlib\n",
    "import numpy as np\n",
    "dim = embeddings.shape[1]\n",
    "p = hnswlib.Index(space='cosine', dim=dim)\n",
    "p.init_index(max_elements=embeddings.shape[0], ef_construction=200, M=16)\n",
    "p.add_items(embeddings, np.arange(embeddings.shape[0]))\n",
    "p.save_index('index.hnsw')\n",
    "p.set_ef(50)  # qualité/vitesse"
   ]
  },
  {
   "cell_type": "markdown",
   "id": "40e7239ccfd48b58",
   "metadata": {},
   "source": [
    "### Les 5 articles les plus similaires pour chaque articles vu par l'utilisateur"
   ]
  },
  {
   "cell_type": "code",
   "execution_count": 29,
   "id": "6670d038ac95e13c",
   "metadata": {
    "ExecuteTime": {
     "end_time": "2025-05-30T21:31:11.099523Z",
     "start_time": "2025-05-30T21:31:11.075120Z"
    }
   },
   "outputs": [],
   "source": [
    "user_articles=articles_clicks_per_user[articles_clicks_per_user.user_id==16280][\"click_article_id\"]\n",
    "embed_ids = [idx_map[article_id] for article_id in user_articles]\n",
    "labels, distances = p.knn_query(embeddings[embed_ids], k=5)"
   ]
  },
  {
   "cell_type": "markdown",
   "id": "e0a973af313b6388",
   "metadata": {},
   "source": [
    "### Hybridation des recommandations entre SVD et Contenu\n",
    "#### Pour tous articles non vues par l'utilisateur, on va calculer la prédiction à partir de la svd de surprise. On va couplé ce résultat avec une similarité cosinus entre les articles candidats et ceux vus par l'utilisateur. Les deux tableaux de résultats sont de dimension 1 et de taille du nombre d'articles non vus.\n"
   ]
  },
  {
   "cell_type": "code",
   "execution_count": 65,
   "id": "8097821c0305564",
   "metadata": {
    "ExecuteTime": {
     "end_time": "2025-06-01T15:10:20.623085Z",
     "start_time": "2025-06-01T15:10:19.577227Z"
    }
   },
   "outputs": [],
   "source": [
    "all_items = articles[\"article_id\"].unique()\n",
    "candidates = [idx_map[i] for i in all_items if i not in user_articles]"
   ]
  },
  {
   "cell_type": "code",
   "execution_count": 72,
   "id": "f5fa1dc178bab2fa",
   "metadata": {
    "ExecuteTime": {
     "end_time": "2025-06-01T15:34:08.869909Z",
     "start_time": "2025-06-01T15:34:08.187807Z"
    }
   },
   "outputs": [],
   "source": [
    "embeddings_norm = embeddings / np.linalg.norm(embeddings, axis=1, keepdims=True)"
   ]
  },
  {
   "cell_type": "code",
   "execution_count": 73,
   "id": "e980187603ce4ad9",
   "metadata": {
    "ExecuteTime": {
     "end_time": "2025-06-01T15:34:10.559720Z",
     "start_time": "2025-06-01T15:34:10.163075Z"
    }
   },
   "outputs": [],
   "source": [
    "E_clicked = embeddings_norm[embed_ids]\n",
    "E_candidates = embeddings_norm[candidates]"
   ]
  },
  {
   "cell_type": "code",
   "execution_count": 110,
   "id": "d0d3a33073a84c29",
   "metadata": {
    "ExecuteTime": {
     "end_time": "2025-06-01T20:47:13.215769Z",
     "start_time": "2025-06-01T20:47:12.466759Z"
    }
   },
   "outputs": [
    {
     "name": "stdout",
     "output_type": "stream",
     "text": [
      "(363925, 122)\n"
     ]
    }
   ],
   "source": [
    "sim_matrix = np.dot(E_candidates, E_clicked.T)\n",
    "print(sim_matrix.shape)"
   ]
  },
  {
   "cell_type": "code",
   "execution_count": 96,
   "id": "f7c6b1ced65237bb",
   "metadata": {
    "ExecuteTime": {
     "end_time": "2025-06-01T20:33:05.426883Z",
     "start_time": "2025-06-01T20:33:03.117861Z"
    }
   },
   "outputs": [],
   "source": [
    "max_sim_cand = sim_matrix.max(axis=1)\n",
    "score_contenu = {idx_map[i]: max_sim_cand[i] for i in range(len(max_sim_cand))}\n",
    "svd_scores = {idx_map[i]: algo.predict(16280,i).est for i in range(len(candidates))}"
   ]
  },
  {
   "cell_type": "code",
   "execution_count": 107,
   "id": "1b4768e8af248d87",
   "metadata": {
    "ExecuteTime": {
     "end_time": "2025-06-01T20:43:23.841436Z",
     "start_time": "2025-06-01T20:43:22.388773Z"
    }
   },
   "outputs": [],
   "source": [
    "alpha = 0.1\n",
    "score_final = {idx_map[i]: alpha*svd_scores[i] + (1-alpha)*score_contenu[i] for i in range(len(score_contenu))}"
   ]
  },
  {
   "cell_type": "code",
   "execution_count": 108,
   "id": "df166327a3fac893",
   "metadata": {
    "ExecuteTime": {
     "end_time": "2025-06-01T20:43:24.892867Z",
     "start_time": "2025-06-01T20:43:24.505923Z"
    }
   },
   "outputs": [],
   "source": [
    "top5 = sorted(score_final.items(), key=lambda x: x[1], reverse=True)[:5]"
   ]
  },
  {
   "cell_type": "code",
   "execution_count": 109,
   "id": "4ba4a4e21a825e4c",
   "metadata": {
    "ExecuteTime": {
     "end_time": "2025-06-01T20:43:26.212418Z",
     "start_time": "2025-06-01T20:43:26.172006Z"
    }
   },
   "outputs": [
    {
     "data": {
      "text/html": [
       "<div>\n",
       "<style scoped>\n",
       "    .dataframe tbody tr th:only-of-type {\n",
       "        vertical-align: middle;\n",
       "    }\n",
       "\n",
       "    .dataframe tbody tr th {\n",
       "        vertical-align: top;\n",
       "    }\n",
       "\n",
       "    .dataframe thead th {\n",
       "        text-align: right;\n",
       "    }\n",
       "</style>\n",
       "<table border=\"1\" class=\"dataframe\">\n",
       "  <thead>\n",
       "    <tr style=\"text-align: right;\">\n",
       "      <th></th>\n",
       "      <th>category_id</th>\n",
       "      <th>created_at_ts</th>\n",
       "      <th>publisher_id</th>\n",
       "      <th>words_count</th>\n",
       "    </tr>\n",
       "    <tr>\n",
       "      <th>article_id</th>\n",
       "      <th></th>\n",
       "      <th></th>\n",
       "      <th></th>\n",
       "      <th></th>\n",
       "    </tr>\n",
       "  </thead>\n",
       "  <tbody>\n",
       "    <tr>\n",
       "      <th>237071</th>\n",
       "      <td>375</td>\n",
       "      <td>1499710604000</td>\n",
       "      <td>0</td>\n",
       "      <td>161</td>\n",
       "    </tr>\n",
       "    <tr>\n",
       "      <th>68851</th>\n",
       "      <td>136</td>\n",
       "      <td>1501421333000</td>\n",
       "      <td>0</td>\n",
       "      <td>278</td>\n",
       "    </tr>\n",
       "    <tr>\n",
       "      <th>43032</th>\n",
       "      <td>68</td>\n",
       "      <td>1402293601000</td>\n",
       "      <td>0</td>\n",
       "      <td>148</td>\n",
       "    </tr>\n",
       "    <tr>\n",
       "      <th>38823</th>\n",
       "      <td>60</td>\n",
       "      <td>1504598401000</td>\n",
       "      <td>0</td>\n",
       "      <td>262</td>\n",
       "    </tr>\n",
       "    <tr>\n",
       "      <th>124749</th>\n",
       "      <td>250</td>\n",
       "      <td>1507316335000</td>\n",
       "      <td>0</td>\n",
       "      <td>192</td>\n",
       "    </tr>\n",
       "  </tbody>\n",
       "</table>\n",
       "</div>"
      ],
      "text/plain": [
       "            category_id  created_at_ts  publisher_id  words_count\n",
       "article_id                                                       \n",
       "237071              375  1499710604000             0          161\n",
       "68851               136  1501421333000             0          278\n",
       "43032                68  1402293601000             0          148\n",
       "38823                60  1504598401000             0          262\n",
       "124749              250  1507316335000             0          192"
      ]
     },
     "execution_count": 109,
     "metadata": {},
     "output_type": "execute_result"
    }
   ],
   "source": [
    "articles.set_index(\"article_id\").loc[[i for i,_ in top5]]"
   ]
  },
  {
   "cell_type": "code",
   "execution_count": 106,
   "id": "a78b936379211bbe",
   "metadata": {
    "ExecuteTime": {
     "end_time": "2025-06-01T20:40:42.352481Z",
     "start_time": "2025-06-01T20:40:42.192726Z"
    }
   },
   "outputs": [
    {
     "data": {
      "text/html": [
       "<div>\n",
       "<style scoped>\n",
       "    .dataframe tbody tr th:only-of-type {\n",
       "        vertical-align: middle;\n",
       "    }\n",
       "\n",
       "    .dataframe tbody tr th {\n",
       "        vertical-align: top;\n",
       "    }\n",
       "\n",
       "    .dataframe thead th {\n",
       "        text-align: right;\n",
       "    }\n",
       "</style>\n",
       "<table border=\"1\" class=\"dataframe\">\n",
       "  <thead>\n",
       "    <tr style=\"text-align: right;\">\n",
       "      <th></th>\n",
       "      <th>category_id</th>\n",
       "      <th>created_at_ts</th>\n",
       "      <th>publisher_id</th>\n",
       "      <th>words_count</th>\n",
       "    </tr>\n",
       "    <tr>\n",
       "      <th>article_id</th>\n",
       "      <th></th>\n",
       "      <th></th>\n",
       "      <th></th>\n",
       "      <th></th>\n",
       "    </tr>\n",
       "  </thead>\n",
       "  <tbody>\n",
       "    <tr>\n",
       "      <th>237071</th>\n",
       "      <td>375</td>\n",
       "      <td>1499710604000</td>\n",
       "      <td>0</td>\n",
       "      <td>161</td>\n",
       "    </tr>\n",
       "    <tr>\n",
       "      <th>68851</th>\n",
       "      <td>136</td>\n",
       "      <td>1501421333000</td>\n",
       "      <td>0</td>\n",
       "      <td>278</td>\n",
       "    </tr>\n",
       "    <tr>\n",
       "      <th>43032</th>\n",
       "      <td>68</td>\n",
       "      <td>1402293601000</td>\n",
       "      <td>0</td>\n",
       "      <td>148</td>\n",
       "    </tr>\n",
       "    <tr>\n",
       "      <th>38823</th>\n",
       "      <td>60</td>\n",
       "      <td>1504598401000</td>\n",
       "      <td>0</td>\n",
       "      <td>262</td>\n",
       "    </tr>\n",
       "    <tr>\n",
       "      <th>272145</th>\n",
       "      <td>399</td>\n",
       "      <td>1507181457000</td>\n",
       "      <td>0</td>\n",
       "      <td>197</td>\n",
       "    </tr>\n",
       "  </tbody>\n",
       "</table>\n",
       "</div>"
      ],
      "text/plain": [
       "            category_id  created_at_ts  publisher_id  words_count\n",
       "article_id                                                       \n",
       "237071              375  1499710604000             0          161\n",
       "68851               136  1501421333000             0          278\n",
       "43032                68  1402293601000             0          148\n",
       "38823                60  1504598401000             0          262\n",
       "272145              399  1507181457000             0          197"
      ]
     },
     "execution_count": 106,
     "metadata": {},
     "output_type": "execute_result"
    }
   ],
   "source": [
    "top5_svd = sorted(svd_scores.items(), key=lambda x: x[1], reverse=True)[:5]\n",
    "articles.set_index(\"article_id\").loc[[i for i,_ in top5_svd]]\n"
   ]
  },
  {
   "cell_type": "code",
   "execution_count": 111,
   "id": "1b0bd7e09b113a43",
   "metadata": {
    "ExecuteTime": {
     "end_time": "2025-06-01T20:52:45.544546Z",
     "start_time": "2025-06-01T20:52:44.844766Z"
    }
   },
   "outputs": [
    {
     "data": {
      "text/html": [
       "<div>\n",
       "<style scoped>\n",
       "    .dataframe tbody tr th:only-of-type {\n",
       "        vertical-align: middle;\n",
       "    }\n",
       "\n",
       "    .dataframe tbody tr th {\n",
       "        vertical-align: top;\n",
       "    }\n",
       "\n",
       "    .dataframe thead th {\n",
       "        text-align: right;\n",
       "    }\n",
       "</style>\n",
       "<table border=\"1\" class=\"dataframe\">\n",
       "  <thead>\n",
       "    <tr style=\"text-align: right;\">\n",
       "      <th></th>\n",
       "      <th>category_id</th>\n",
       "      <th>created_at_ts</th>\n",
       "      <th>publisher_id</th>\n",
       "      <th>words_count</th>\n",
       "    </tr>\n",
       "    <tr>\n",
       "      <th>article_id</th>\n",
       "      <th></th>\n",
       "      <th></th>\n",
       "      <th></th>\n",
       "      <th></th>\n",
       "    </tr>\n",
       "  </thead>\n",
       "  <tbody>\n",
       "    <tr>\n",
       "      <th>124749</th>\n",
       "      <td>250</td>\n",
       "      <td>1507316335000</td>\n",
       "      <td>0</td>\n",
       "      <td>192</td>\n",
       "    </tr>\n",
       "    <tr>\n",
       "      <th>336223</th>\n",
       "      <td>437</td>\n",
       "      <td>1507555700000</td>\n",
       "      <td>0</td>\n",
       "      <td>122</td>\n",
       "    </tr>\n",
       "    <tr>\n",
       "      <th>31836</th>\n",
       "      <td>26</td>\n",
       "      <td>1507553479000</td>\n",
       "      <td>0</td>\n",
       "      <td>175</td>\n",
       "    </tr>\n",
       "    <tr>\n",
       "      <th>156560</th>\n",
       "      <td>281</td>\n",
       "      <td>1506957280000</td>\n",
       "      <td>0</td>\n",
       "      <td>185</td>\n",
       "    </tr>\n",
       "    <tr>\n",
       "      <th>233688</th>\n",
       "      <td>375</td>\n",
       "      <td>1507747802000</td>\n",
       "      <td>0</td>\n",
       "      <td>210</td>\n",
       "    </tr>\n",
       "  </tbody>\n",
       "</table>\n",
       "</div>"
      ],
      "text/plain": [
       "            category_id  created_at_ts  publisher_id  words_count\n",
       "article_id                                                       \n",
       "124749              250  1507316335000             0          192\n",
       "336223              437  1507555700000             0          122\n",
       "31836                26  1507553479000             0          175\n",
       "156560              281  1506957280000             0          185\n",
       "233688              375  1507747802000             0          210"
      ]
     },
     "execution_count": 111,
     "metadata": {},
     "output_type": "execute_result"
    }
   ],
   "source": [
    "top5_svd = sorted(score_contenu.items(), key=lambda x: x[1], reverse=True)[:5]\n",
    "articles.set_index(\"article_id\").loc[[i for i,_ in top5_svd]]"
   ]
  },
  {
   "cell_type": "code",
   "execution_count": null,
   "id": "1ee268d9494ec39",
   "metadata": {},
   "outputs": [],
   "source": []
  }
 ],
 "metadata": {
  "kernelspec": {
   "display_name": ".venv",
   "language": "python",
   "name": "python3"
  },
  "language_info": {
   "codemirror_mode": {
    "name": "ipython",
    "version": 3
   },
   "file_extension": ".py",
   "mimetype": "text/x-python",
   "name": "python",
   "nbconvert_exporter": "python",
   "pygments_lexer": "ipython3",
   "version": "3.10.15"
  }
 },
 "nbformat": 4,
 "nbformat_minor": 5
}
