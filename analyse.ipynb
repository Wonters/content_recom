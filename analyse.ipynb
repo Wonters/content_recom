{
 "cells": [
  {
   "cell_type": "code",
   "id": "initial_id",
   "metadata": {
    "collapsed": true,
    "ExecuteTime": {
     "end_time": "2025-05-26T10:53:08.410651Z",
     "start_time": "2025-05-26T10:53:08.204388Z"
    }
   },
   "source": [
    "import pandas as pd\n",
    "articles = pd.read_csv(\"data/articles_metadata.csv\")"
   ],
   "outputs": [],
   "execution_count": 1
  },
  {
   "metadata": {
    "ExecuteTime": {
     "end_time": "2025-05-26T10:53:17.079562Z",
     "start_time": "2025-05-26T10:53:15.520437Z"
    }
   },
   "cell_type": "code",
   "source": [
    "import pickle\n",
    "embeddings = pickle.load(open(\"data/articles_embeddings.pickle\", \"rb\"))"
   ],
   "id": "14261aedcc30428e",
   "outputs": [],
   "execution_count": 2
  },
  {
   "metadata": {
    "ExecuteTime": {
     "end_time": "2025-05-26T10:53:20.094821Z",
     "start_time": "2025-05-26T10:53:20.086504Z"
    }
   },
   "cell_type": "code",
   "source": "type(embeddings)",
   "id": "b2a48b67755b51f6",
   "outputs": [
    {
     "data": {
      "text/plain": [
       "numpy.ndarray"
      ]
     },
     "execution_count": 3,
     "metadata": {},
     "output_type": "execute_result"
    }
   ],
   "execution_count": 3
  },
  {
   "metadata": {
    "ExecuteTime": {
     "end_time": "2025-05-26T10:53:22.956060Z",
     "start_time": "2025-05-26T10:53:22.950662Z"
    }
   },
   "cell_type": "code",
   "source": "embeddings.shape",
   "id": "84decc2c342d9fb1",
   "outputs": [
    {
     "data": {
      "text/plain": [
       "(364047, 250)"
      ]
     },
     "execution_count": 4,
     "metadata": {},
     "output_type": "execute_result"
    }
   ],
   "execution_count": 4
  },
  {
   "metadata": {
    "ExecuteTime": {
     "end_time": "2025-05-26T10:53:25.181423Z",
     "start_time": "2025-05-26T10:53:25.162597Z"
    }
   },
   "cell_type": "code",
   "source": "articles.head(10)",
   "id": "2ddc10cc0bb83104",
   "outputs": [
    {
     "data": {
      "text/plain": [
       "   article_id  category_id  created_at_ts  publisher_id  words_count\n",
       "0           0            0  1513144419000             0          168\n",
       "1           1            1  1405341936000             0          189\n",
       "2           2            1  1408667706000             0          250\n",
       "3           3            1  1408468313000             0          230\n",
       "4           4            1  1407071171000             0          162\n",
       "5           5            1  1407413929000             0          196\n",
       "6           6            1  1409896802000             0          203\n",
       "7           7            1  1412559620000             0          154\n",
       "8           8            1  1414351550000             0          209\n",
       "9           9            1  1412526792000             0          181"
      ],
      "text/html": [
       "<div>\n",
       "<style scoped>\n",
       "    .dataframe tbody tr th:only-of-type {\n",
       "        vertical-align: middle;\n",
       "    }\n",
       "\n",
       "    .dataframe tbody tr th {\n",
       "        vertical-align: top;\n",
       "    }\n",
       "\n",
       "    .dataframe thead th {\n",
       "        text-align: right;\n",
       "    }\n",
       "</style>\n",
       "<table border=\"1\" class=\"dataframe\">\n",
       "  <thead>\n",
       "    <tr style=\"text-align: right;\">\n",
       "      <th></th>\n",
       "      <th>article_id</th>\n",
       "      <th>category_id</th>\n",
       "      <th>created_at_ts</th>\n",
       "      <th>publisher_id</th>\n",
       "      <th>words_count</th>\n",
       "    </tr>\n",
       "  </thead>\n",
       "  <tbody>\n",
       "    <tr>\n",
       "      <th>0</th>\n",
       "      <td>0</td>\n",
       "      <td>0</td>\n",
       "      <td>1513144419000</td>\n",
       "      <td>0</td>\n",
       "      <td>168</td>\n",
       "    </tr>\n",
       "    <tr>\n",
       "      <th>1</th>\n",
       "      <td>1</td>\n",
       "      <td>1</td>\n",
       "      <td>1405341936000</td>\n",
       "      <td>0</td>\n",
       "      <td>189</td>\n",
       "    </tr>\n",
       "    <tr>\n",
       "      <th>2</th>\n",
       "      <td>2</td>\n",
       "      <td>1</td>\n",
       "      <td>1408667706000</td>\n",
       "      <td>0</td>\n",
       "      <td>250</td>\n",
       "    </tr>\n",
       "    <tr>\n",
       "      <th>3</th>\n",
       "      <td>3</td>\n",
       "      <td>1</td>\n",
       "      <td>1408468313000</td>\n",
       "      <td>0</td>\n",
       "      <td>230</td>\n",
       "    </tr>\n",
       "    <tr>\n",
       "      <th>4</th>\n",
       "      <td>4</td>\n",
       "      <td>1</td>\n",
       "      <td>1407071171000</td>\n",
       "      <td>0</td>\n",
       "      <td>162</td>\n",
       "    </tr>\n",
       "    <tr>\n",
       "      <th>5</th>\n",
       "      <td>5</td>\n",
       "      <td>1</td>\n",
       "      <td>1407413929000</td>\n",
       "      <td>0</td>\n",
       "      <td>196</td>\n",
       "    </tr>\n",
       "    <tr>\n",
       "      <th>6</th>\n",
       "      <td>6</td>\n",
       "      <td>1</td>\n",
       "      <td>1409896802000</td>\n",
       "      <td>0</td>\n",
       "      <td>203</td>\n",
       "    </tr>\n",
       "    <tr>\n",
       "      <th>7</th>\n",
       "      <td>7</td>\n",
       "      <td>1</td>\n",
       "      <td>1412559620000</td>\n",
       "      <td>0</td>\n",
       "      <td>154</td>\n",
       "    </tr>\n",
       "    <tr>\n",
       "      <th>8</th>\n",
       "      <td>8</td>\n",
       "      <td>1</td>\n",
       "      <td>1414351550000</td>\n",
       "      <td>0</td>\n",
       "      <td>209</td>\n",
       "    </tr>\n",
       "    <tr>\n",
       "      <th>9</th>\n",
       "      <td>9</td>\n",
       "      <td>1</td>\n",
       "      <td>1412526792000</td>\n",
       "      <td>0</td>\n",
       "      <td>181</td>\n",
       "    </tr>\n",
       "  </tbody>\n",
       "</table>\n",
       "</div>"
      ]
     },
     "execution_count": 5,
     "metadata": {},
     "output_type": "execute_result"
    }
   ],
   "execution_count": 5
  },
  {
   "metadata": {
    "ExecuteTime": {
     "end_time": "2025-05-26T10:53:31.453106Z",
     "start_time": "2025-05-26T10:53:30.596435Z"
    }
   },
   "cell_type": "code",
   "source": [
    "import os\n",
    "import glob\n",
    "list_clicks = []\n",
    "if os.path.exists(\"data/clicks.parquet\"):\n",
    "    df_clicks = pd.read_parquet(\"data/clicks.parquet\")\n",
    "else:\n",
    "    for click_path in glob.glob(\"data/clicks/clicks_hour_*.csv\"):\n",
    "        list_clicks.append(pd.read_csv(click_path))\n",
    "    df_clicks= pd.concat(list_clicks)\n",
    "    df_clicks.to_parquet('data/clicks.parquet')\n",
    "df_clicks.head(10)"
   ],
   "id": "d932847a7863211",
   "outputs": [
    {
     "data": {
      "text/plain": [
       "       user_id        session_id  session_start  session_size  \\\n",
       "index                                                           \n",
       "0        93863  1507865792177843  1507865792000             2   \n",
       "1        93863  1507865792177843  1507865792000             2   \n",
       "2       294036  1507865795185844  1507865795000             2   \n",
       "3       294036  1507865795185844  1507865795000             2   \n",
       "4        77136  1507865796257845  1507865796000             2   \n",
       "5        77136  1507865796257845  1507865796000             2   \n",
       "6        16921  1507865798301846  1507865798000             2   \n",
       "7        16921  1507865798301846  1507865798000             2   \n",
       "8        28126  1507865802651847  1507865802000             4   \n",
       "9        28126  1507865802651847  1507865802000             4   \n",
       "\n",
       "       click_article_id  click_timestamp  click_environment  \\\n",
       "index                                                         \n",
       "0                 96210    1507865832925                  4   \n",
       "1                158094    1507865862925                  4   \n",
       "2                 20691    1507865819095                  4   \n",
       "3                 96210    1507865849095                  4   \n",
       "4                336245    1507866133178                  4   \n",
       "5                 96210    1507866163178                  4   \n",
       "6                159197    1507865858065                  4   \n",
       "7                337441    1507865888065                  4   \n",
       "8                 96210    1507865841576                  4   \n",
       "9                159196    1507867247894                  4   \n",
       "\n",
       "       click_deviceGroup  click_os  click_country  click_region  \\\n",
       "index                                                             \n",
       "0                      3         2              1            21   \n",
       "1                      3         2              1            21   \n",
       "2                      3        20              1             9   \n",
       "3                      3        20              1             9   \n",
       "4                      3         2              1            25   \n",
       "5                      3         2              1            25   \n",
       "6                      1        17              1             9   \n",
       "7                      1        17              1             9   \n",
       "8                      1        17              1            25   \n",
       "9                      1        17              1            25   \n",
       "\n",
       "       click_referrer_type  \n",
       "index                       \n",
       "0                        2  \n",
       "1                        2  \n",
       "2                        2  \n",
       "3                        2  \n",
       "4                        2  \n",
       "5                        2  \n",
       "6                        1  \n",
       "7                        1  \n",
       "8                        2  \n",
       "9                        1  "
      ],
      "text/html": [
       "<div>\n",
       "<style scoped>\n",
       "    .dataframe tbody tr th:only-of-type {\n",
       "        vertical-align: middle;\n",
       "    }\n",
       "\n",
       "    .dataframe tbody tr th {\n",
       "        vertical-align: top;\n",
       "    }\n",
       "\n",
       "    .dataframe thead th {\n",
       "        text-align: right;\n",
       "    }\n",
       "</style>\n",
       "<table border=\"1\" class=\"dataframe\">\n",
       "  <thead>\n",
       "    <tr style=\"text-align: right;\">\n",
       "      <th></th>\n",
       "      <th>user_id</th>\n",
       "      <th>session_id</th>\n",
       "      <th>session_start</th>\n",
       "      <th>session_size</th>\n",
       "      <th>click_article_id</th>\n",
       "      <th>click_timestamp</th>\n",
       "      <th>click_environment</th>\n",
       "      <th>click_deviceGroup</th>\n",
       "      <th>click_os</th>\n",
       "      <th>click_country</th>\n",
       "      <th>click_region</th>\n",
       "      <th>click_referrer_type</th>\n",
       "    </tr>\n",
       "    <tr>\n",
       "      <th>index</th>\n",
       "      <th></th>\n",
       "      <th></th>\n",
       "      <th></th>\n",
       "      <th></th>\n",
       "      <th></th>\n",
       "      <th></th>\n",
       "      <th></th>\n",
       "      <th></th>\n",
       "      <th></th>\n",
       "      <th></th>\n",
       "      <th></th>\n",
       "      <th></th>\n",
       "    </tr>\n",
       "  </thead>\n",
       "  <tbody>\n",
       "    <tr>\n",
       "      <th>0</th>\n",
       "      <td>93863</td>\n",
       "      <td>1507865792177843</td>\n",
       "      <td>1507865792000</td>\n",
       "      <td>2</td>\n",
       "      <td>96210</td>\n",
       "      <td>1507865832925</td>\n",
       "      <td>4</td>\n",
       "      <td>3</td>\n",
       "      <td>2</td>\n",
       "      <td>1</td>\n",
       "      <td>21</td>\n",
       "      <td>2</td>\n",
       "    </tr>\n",
       "    <tr>\n",
       "      <th>1</th>\n",
       "      <td>93863</td>\n",
       "      <td>1507865792177843</td>\n",
       "      <td>1507865792000</td>\n",
       "      <td>2</td>\n",
       "      <td>158094</td>\n",
       "      <td>1507865862925</td>\n",
       "      <td>4</td>\n",
       "      <td>3</td>\n",
       "      <td>2</td>\n",
       "      <td>1</td>\n",
       "      <td>21</td>\n",
       "      <td>2</td>\n",
       "    </tr>\n",
       "    <tr>\n",
       "      <th>2</th>\n",
       "      <td>294036</td>\n",
       "      <td>1507865795185844</td>\n",
       "      <td>1507865795000</td>\n",
       "      <td>2</td>\n",
       "      <td>20691</td>\n",
       "      <td>1507865819095</td>\n",
       "      <td>4</td>\n",
       "      <td>3</td>\n",
       "      <td>20</td>\n",
       "      <td>1</td>\n",
       "      <td>9</td>\n",
       "      <td>2</td>\n",
       "    </tr>\n",
       "    <tr>\n",
       "      <th>3</th>\n",
       "      <td>294036</td>\n",
       "      <td>1507865795185844</td>\n",
       "      <td>1507865795000</td>\n",
       "      <td>2</td>\n",
       "      <td>96210</td>\n",
       "      <td>1507865849095</td>\n",
       "      <td>4</td>\n",
       "      <td>3</td>\n",
       "      <td>20</td>\n",
       "      <td>1</td>\n",
       "      <td>9</td>\n",
       "      <td>2</td>\n",
       "    </tr>\n",
       "    <tr>\n",
       "      <th>4</th>\n",
       "      <td>77136</td>\n",
       "      <td>1507865796257845</td>\n",
       "      <td>1507865796000</td>\n",
       "      <td>2</td>\n",
       "      <td>336245</td>\n",
       "      <td>1507866133178</td>\n",
       "      <td>4</td>\n",
       "      <td>3</td>\n",
       "      <td>2</td>\n",
       "      <td>1</td>\n",
       "      <td>25</td>\n",
       "      <td>2</td>\n",
       "    </tr>\n",
       "    <tr>\n",
       "      <th>5</th>\n",
       "      <td>77136</td>\n",
       "      <td>1507865796257845</td>\n",
       "      <td>1507865796000</td>\n",
       "      <td>2</td>\n",
       "      <td>96210</td>\n",
       "      <td>1507866163178</td>\n",
       "      <td>4</td>\n",
       "      <td>3</td>\n",
       "      <td>2</td>\n",
       "      <td>1</td>\n",
       "      <td>25</td>\n",
       "      <td>2</td>\n",
       "    </tr>\n",
       "    <tr>\n",
       "      <th>6</th>\n",
       "      <td>16921</td>\n",
       "      <td>1507865798301846</td>\n",
       "      <td>1507865798000</td>\n",
       "      <td>2</td>\n",
       "      <td>159197</td>\n",
       "      <td>1507865858065</td>\n",
       "      <td>4</td>\n",
       "      <td>1</td>\n",
       "      <td>17</td>\n",
       "      <td>1</td>\n",
       "      <td>9</td>\n",
       "      <td>1</td>\n",
       "    </tr>\n",
       "    <tr>\n",
       "      <th>7</th>\n",
       "      <td>16921</td>\n",
       "      <td>1507865798301846</td>\n",
       "      <td>1507865798000</td>\n",
       "      <td>2</td>\n",
       "      <td>337441</td>\n",
       "      <td>1507865888065</td>\n",
       "      <td>4</td>\n",
       "      <td>1</td>\n",
       "      <td>17</td>\n",
       "      <td>1</td>\n",
       "      <td>9</td>\n",
       "      <td>1</td>\n",
       "    </tr>\n",
       "    <tr>\n",
       "      <th>8</th>\n",
       "      <td>28126</td>\n",
       "      <td>1507865802651847</td>\n",
       "      <td>1507865802000</td>\n",
       "      <td>4</td>\n",
       "      <td>96210</td>\n",
       "      <td>1507865841576</td>\n",
       "      <td>4</td>\n",
       "      <td>1</td>\n",
       "      <td>17</td>\n",
       "      <td>1</td>\n",
       "      <td>25</td>\n",
       "      <td>2</td>\n",
       "    </tr>\n",
       "    <tr>\n",
       "      <th>9</th>\n",
       "      <td>28126</td>\n",
       "      <td>1507865802651847</td>\n",
       "      <td>1507865802000</td>\n",
       "      <td>4</td>\n",
       "      <td>159196</td>\n",
       "      <td>1507867247894</td>\n",
       "      <td>4</td>\n",
       "      <td>1</td>\n",
       "      <td>17</td>\n",
       "      <td>1</td>\n",
       "      <td>25</td>\n",
       "      <td>1</td>\n",
       "    </tr>\n",
       "  </tbody>\n",
       "</table>\n",
       "</div>"
      ]
     },
     "execution_count": 6,
     "metadata": {},
     "output_type": "execute_result"
    }
   ],
   "execution_count": 6
  },
  {
   "metadata": {
    "ExecuteTime": {
     "end_time": "2025-05-26T10:54:08.745295Z",
     "start_time": "2025-05-26T10:54:08.739618Z"
    }
   },
   "cell_type": "code",
   "source": [
    "import seaborn as sns\n",
    "df_clicks.shape"
   ],
   "id": "ef1f38643ab32a89",
   "outputs": [
    {
     "data": {
      "text/plain": [
       "(2988181, 12)"
      ]
     },
     "execution_count": 7,
     "metadata": {},
     "output_type": "execute_result"
    }
   ],
   "execution_count": 7
  },
  {
   "metadata": {
    "ExecuteTime": {
     "end_time": "2025-05-26T10:54:11.566272Z",
     "start_time": "2025-05-26T10:54:11.501577Z"
    }
   },
   "cell_type": "code",
   "source": "print(f\"Nombre d'utilisateurs avec les informations de click {df_clicks['user_id'].unique().shape[0]}\")",
   "id": "e4ec420124c3c115",
   "outputs": [
    {
     "name": "stdout",
     "output_type": "stream",
     "text": [
      "Nombre d'utilisateurs avec les informations de click 322897\n"
     ]
    }
   ],
   "execution_count": 8
  },
  {
   "metadata": {
    "ExecuteTime": {
     "end_time": "2025-05-26T10:54:12.377534Z",
     "start_time": "2025-05-26T10:54:12.359633Z"
    }
   },
   "cell_type": "code",
   "source": "print(f\"Nombre d'articles {articles['article_id'].unique().shape[0]}\")",
   "id": "fb20e3027f8450ba",
   "outputs": [
    {
     "name": "stdout",
     "output_type": "stream",
     "text": [
      "Nombre d'articles 364047\n"
     ]
    }
   ],
   "execution_count": 9
  },
  {
   "metadata": {
    "ExecuteTime": {
     "end_time": "2025-05-26T10:54:15.900301Z",
     "start_time": "2025-05-26T10:54:15.775456Z"
    }
   },
   "cell_type": "code",
   "source": "nbr_clicks = df_clicks['user_id'].value_counts()",
   "id": "b24fa163576865d3",
   "outputs": [],
   "execution_count": 10
  },
  {
   "metadata": {
    "ExecuteTime": {
     "end_time": "2025-05-26T10:54:18.381237Z",
     "start_time": "2025-05-26T10:54:18.375431Z"
    }
   },
   "cell_type": "code",
   "source": "print(f\"Nombre d'utilisateurs avec plus de 100 clicks {nbr_clicks[nbr_clicks>100].shape[0]}\")",
   "id": "950c789be16e2d66",
   "outputs": [
    {
     "name": "stdout",
     "output_type": "stream",
     "text": [
      "Nombre d'utilisateurs avec plus de 100 clicks 1112\n"
     ]
    }
   ],
   "execution_count": 11
  },
  {
   "metadata": {
    "ExecuteTime": {
     "end_time": "2025-05-26T13:59:21.771527Z",
     "start_time": "2025-05-26T13:59:17.660274Z"
    }
   },
   "cell_type": "code",
   "source": "articles_clicks_per_user =df_clicks[['user_id','click_article_id']].groupby(['user_id','click_article_id']).value_counts()",
   "id": "d35a110e551ec670",
   "outputs": [],
   "execution_count": 26
  },
  {
   "metadata": {
    "ExecuteTime": {
     "end_time": "2025-05-26T17:29:19.978005Z",
     "start_time": "2025-05-26T17:29:19.961883Z"
    }
   },
   "cell_type": "code",
   "source": "articles_clicks_per_user[articles_clicks_per_user>20]",
   "id": "3fe09e29cd4b90ec",
   "outputs": [
    {
     "data": {
      "text/plain": [
       "user_id  click_article_id\n",
       "16280    38823               30\n",
       "         43032               31\n",
       "         68851               33\n",
       "         237071              33\n",
       "         363925              33\n",
       "Name: count, dtype: int64"
      ]
     },
     "execution_count": 32,
     "metadata": {},
     "output_type": "execute_result"
    }
   ],
   "execution_count": 32
  },
  {
   "metadata": {
    "ExecuteTime": {
     "end_time": "2025-05-26T17:28:56.950909Z",
     "start_time": "2025-05-26T17:28:56.665829Z"
    }
   },
   "cell_type": "code",
   "source": [
    "import surprise\n",
    "reader = surprise.Reader(rating_scale=(1, 5))\n",
    "reader.read_csv('data/clicks/clicks_hour_000.csv', delimiter=',')"
   ],
   "id": "f2b0301d43053645",
   "outputs": [
    {
     "name": "stderr",
     "output_type": "stream",
     "text": [
      "\n",
      "A module that was compiled using NumPy 1.x cannot be run in\n",
      "NumPy 2.2.6 as it may crash. To support both 1.x and 2.x\n",
      "versions of NumPy, modules must be compiled with NumPy 2.0.\n",
      "Some module may need to rebuild instead e.g. with 'pybind11>=2.12'.\n",
      "\n",
      "If you are a user of the module, the easiest solution will be to\n",
      "downgrade to 'numpy<2' or try to upgrade the affected module.\n",
      "We expect that some modules will need time to support NumPy 2.\n",
      "\n",
      "Traceback (most recent call last):  File \"/Users/wonters/.local/share/uv/python/cpython-3.10.15-macos-x86_64-none/lib/python3.10/runpy.py\", line 196, in _run_module_as_main\n",
      "    return _run_code(code, main_globals, None,\n",
      "  File \"/Users/wonters/.local/share/uv/python/cpython-3.10.15-macos-x86_64-none/lib/python3.10/runpy.py\", line 86, in _run_code\n",
      "    exec(code, run_globals)\n",
      "  File \"/Users/wonters/Desktop/openclassroom/projets/content_recom/.venv/lib/python3.10/site-packages/ipykernel_launcher.py\", line 18, in <module>\n",
      "    app.launch_new_instance()\n",
      "  File \"/Users/wonters/Desktop/openclassroom/projets/content_recom/.venv/lib/python3.10/site-packages/traitlets/config/application.py\", line 1075, in launch_instance\n",
      "    app.start()\n",
      "  File \"/Users/wonters/Desktop/openclassroom/projets/content_recom/.venv/lib/python3.10/site-packages/ipykernel/kernelapp.py\", line 739, in start\n",
      "    self.io_loop.start()\n",
      "  File \"/Users/wonters/Desktop/openclassroom/projets/content_recom/.venv/lib/python3.10/site-packages/tornado/platform/asyncio.py\", line 211, in start\n",
      "    self.asyncio_loop.run_forever()\n",
      "  File \"/Users/wonters/.local/share/uv/python/cpython-3.10.15-macos-x86_64-none/lib/python3.10/asyncio/base_events.py\", line 603, in run_forever\n",
      "    self._run_once()\n",
      "  File \"/Users/wonters/.local/share/uv/python/cpython-3.10.15-macos-x86_64-none/lib/python3.10/asyncio/base_events.py\", line 1909, in _run_once\n",
      "    handle._run()\n",
      "  File \"/Users/wonters/.local/share/uv/python/cpython-3.10.15-macos-x86_64-none/lib/python3.10/asyncio/events.py\", line 80, in _run\n",
      "    self._context.run(self._callback, *self._args)\n",
      "  File \"/Users/wonters/Desktop/openclassroom/projets/content_recom/.venv/lib/python3.10/site-packages/ipykernel/kernelbase.py\", line 545, in dispatch_queue\n",
      "    await self.process_one()\n",
      "  File \"/Users/wonters/Desktop/openclassroom/projets/content_recom/.venv/lib/python3.10/site-packages/ipykernel/kernelbase.py\", line 534, in process_one\n",
      "    await dispatch(*args)\n",
      "  File \"/Users/wonters/Desktop/openclassroom/projets/content_recom/.venv/lib/python3.10/site-packages/ipykernel/kernelbase.py\", line 437, in dispatch_shell\n",
      "    await result\n",
      "  File \"/Users/wonters/Desktop/openclassroom/projets/content_recom/.venv/lib/python3.10/site-packages/ipykernel/ipkernel.py\", line 362, in execute_request\n",
      "    await super().execute_request(stream, ident, parent)\n",
      "  File \"/Users/wonters/Desktop/openclassroom/projets/content_recom/.venv/lib/python3.10/site-packages/ipykernel/kernelbase.py\", line 778, in execute_request\n",
      "    reply_content = await reply_content\n",
      "  File \"/Users/wonters/Desktop/openclassroom/projets/content_recom/.venv/lib/python3.10/site-packages/ipykernel/ipkernel.py\", line 449, in do_execute\n",
      "    res = shell.run_cell(\n",
      "  File \"/Users/wonters/Desktop/openclassroom/projets/content_recom/.venv/lib/python3.10/site-packages/ipykernel/zmqshell.py\", line 549, in run_cell\n",
      "    return super().run_cell(*args, **kwargs)\n",
      "  File \"/Users/wonters/Desktop/openclassroom/projets/content_recom/.venv/lib/python3.10/site-packages/IPython/core/interactiveshell.py\", line 3077, in run_cell\n",
      "    result = self._run_cell(\n",
      "  File \"/Users/wonters/Desktop/openclassroom/projets/content_recom/.venv/lib/python3.10/site-packages/IPython/core/interactiveshell.py\", line 3132, in _run_cell\n",
      "    result = runner(coro)\n",
      "  File \"/Users/wonters/Desktop/openclassroom/projets/content_recom/.venv/lib/python3.10/site-packages/IPython/core/async_helpers.py\", line 128, in _pseudo_sync_runner\n",
      "    coro.send(None)\n",
      "  File \"/Users/wonters/Desktop/openclassroom/projets/content_recom/.venv/lib/python3.10/site-packages/IPython/core/interactiveshell.py\", line 3336, in run_cell_async\n",
      "    has_raised = await self.run_ast_nodes(code_ast.body, cell_name,\n",
      "  File \"/Users/wonters/Desktop/openclassroom/projets/content_recom/.venv/lib/python3.10/site-packages/IPython/core/interactiveshell.py\", line 3519, in run_ast_nodes\n",
      "    if await self.run_code(code, result, async_=asy):\n",
      "  File \"/Users/wonters/Desktop/openclassroom/projets/content_recom/.venv/lib/python3.10/site-packages/IPython/core/interactiveshell.py\", line 3579, in run_code\n",
      "    exec(code_obj, self.user_global_ns, self.user_ns)\n",
      "  File \"/var/folders/ln/qzyvsjw931q17sfy580ql2_c0000gn/T/ipykernel_63527/96299041.py\", line 1, in <module>\n",
      "    import surprise\n",
      "  File \"/Users/wonters/Desktop/openclassroom/projets/content_recom/.venv/lib/python3.10/site-packages/surprise/__init__.py\", line 6, in <module>\n",
      "    from .prediction_algorithms import (\n",
      "  File \"/Users/wonters/Desktop/openclassroom/projets/content_recom/.venv/lib/python3.10/site-packages/surprise/prediction_algorithms/__init__.py\", line 23, in <module>\n",
      "    from .algo_base import AlgoBase\n",
      "  File \"/Users/wonters/Desktop/openclassroom/projets/content_recom/.venv/lib/python3.10/site-packages/surprise/prediction_algorithms/algo_base.py\", line 8, in <module>\n",
      "    from .. import similarities as sims\n"
     ]
    },
    {
     "ename": "ImportError",
     "evalue": "numpy.core.multiarray failed to import (auto-generated because you didn't call 'numpy.import_array()' after cimporting numpy; use '<void>numpy._import_array' to disable if you are certain you don't need it).",
     "output_type": "error",
     "traceback": [
      "\u001B[0;31m---------------------------------------------------------------------------\u001B[0m",
      "\u001B[0;31mImportError\u001B[0m                               Traceback (most recent call last)",
      "Cell \u001B[0;32mIn[31], line 1\u001B[0m\n\u001B[0;32m----> 1\u001B[0m \u001B[38;5;28;01mimport\u001B[39;00m\u001B[38;5;250m \u001B[39m\u001B[38;5;21;01msurprise\u001B[39;00m\n\u001B[1;32m      2\u001B[0m reader \u001B[38;5;241m=\u001B[39m surprise\u001B[38;5;241m.\u001B[39mReader(rating_scale\u001B[38;5;241m=\u001B[39m(\u001B[38;5;241m1\u001B[39m, \u001B[38;5;241m5\u001B[39m))\n\u001B[1;32m      3\u001B[0m reader\u001B[38;5;241m.\u001B[39mread_csv(\u001B[38;5;124m'\u001B[39m\u001B[38;5;124mdata/clicks/clicks_hour_000.csv\u001B[39m\u001B[38;5;124m'\u001B[39m, delimiter\u001B[38;5;241m=\u001B[39m\u001B[38;5;124m'\u001B[39m\u001B[38;5;124m,\u001B[39m\u001B[38;5;124m'\u001B[39m)\n",
      "File \u001B[0;32m~/Desktop/openclassroom/projets/content_recom/.venv/lib/python3.10/site-packages/surprise/__init__.py:6\u001B[0m\n\u001B[1;32m      2\u001B[0m \u001B[38;5;28;01mfrom\u001B[39;00m\u001B[38;5;250m \u001B[39m\u001B[38;5;21;01m.\u001B[39;00m\u001B[38;5;21;01mbuiltin_datasets\u001B[39;00m\u001B[38;5;250m \u001B[39m\u001B[38;5;28;01mimport\u001B[39;00m get_dataset_dir\n\u001B[1;32m      4\u001B[0m \u001B[38;5;28;01mfrom\u001B[39;00m\u001B[38;5;250m \u001B[39m\u001B[38;5;21;01m.\u001B[39;00m\u001B[38;5;21;01mdataset\u001B[39;00m\u001B[38;5;250m \u001B[39m\u001B[38;5;28;01mimport\u001B[39;00m Dataset\n\u001B[0;32m----> 6\u001B[0m \u001B[38;5;28;01mfrom\u001B[39;00m\u001B[38;5;250m \u001B[39m\u001B[38;5;21;01m.\u001B[39;00m\u001B[38;5;21;01mprediction_algorithms\u001B[39;00m\u001B[38;5;250m \u001B[39m\u001B[38;5;28;01mimport\u001B[39;00m (\n\u001B[1;32m      7\u001B[0m     AlgoBase,\n\u001B[1;32m      8\u001B[0m     BaselineOnly,\n\u001B[1;32m      9\u001B[0m     CoClustering,\n\u001B[1;32m     10\u001B[0m     KNNBaseline,\n\u001B[1;32m     11\u001B[0m     KNNBasic,\n\u001B[1;32m     12\u001B[0m     KNNWithMeans,\n\u001B[1;32m     13\u001B[0m     KNNWithZScore,\n\u001B[1;32m     14\u001B[0m     NMF,\n\u001B[1;32m     15\u001B[0m     NormalPredictor,\n\u001B[1;32m     16\u001B[0m     Prediction,\n\u001B[1;32m     17\u001B[0m     PredictionImpossible,\n\u001B[1;32m     18\u001B[0m     SlopeOne,\n\u001B[1;32m     19\u001B[0m     SVD,\n\u001B[1;32m     20\u001B[0m     SVDpp,\n\u001B[1;32m     21\u001B[0m )\n\u001B[1;32m     22\u001B[0m \u001B[38;5;28;01mfrom\u001B[39;00m\u001B[38;5;250m \u001B[39m\u001B[38;5;21;01m.\u001B[39;00m\u001B[38;5;21;01mreader\u001B[39;00m\u001B[38;5;250m \u001B[39m\u001B[38;5;28;01mimport\u001B[39;00m Reader\n\u001B[1;32m     23\u001B[0m \u001B[38;5;28;01mfrom\u001B[39;00m\u001B[38;5;250m \u001B[39m\u001B[38;5;21;01m.\u001B[39;00m\u001B[38;5;21;01mtrainset\u001B[39;00m\u001B[38;5;250m \u001B[39m\u001B[38;5;28;01mimport\u001B[39;00m Trainset\n",
      "File \u001B[0;32m~/Desktop/openclassroom/projets/content_recom/.venv/lib/python3.10/site-packages/surprise/prediction_algorithms/__init__.py:23\u001B[0m\n\u001B[1;32m      1\u001B[0m \u001B[38;5;124;03m\"\"\"\u001B[39;00m\n\u001B[1;32m      2\u001B[0m \u001B[38;5;124;03mThe :mod:`prediction_algorithms` package includes the prediction algorithms\u001B[39;00m\n\u001B[1;32m      3\u001B[0m \u001B[38;5;124;03mavailable for recommendation.\u001B[39;00m\n\u001B[0;32m   (...)\u001B[0m\n\u001B[1;32m     20\u001B[0m \u001B[38;5;124;03m    co_clustering.CoClustering\u001B[39;00m\n\u001B[1;32m     21\u001B[0m \u001B[38;5;124;03m\"\"\"\u001B[39;00m\n\u001B[0;32m---> 23\u001B[0m \u001B[38;5;28;01mfrom\u001B[39;00m\u001B[38;5;250m \u001B[39m\u001B[38;5;21;01m.\u001B[39;00m\u001B[38;5;21;01malgo_base\u001B[39;00m\u001B[38;5;250m \u001B[39m\u001B[38;5;28;01mimport\u001B[39;00m AlgoBase\n\u001B[1;32m     24\u001B[0m \u001B[38;5;28;01mfrom\u001B[39;00m\u001B[38;5;250m \u001B[39m\u001B[38;5;21;01m.\u001B[39;00m\u001B[38;5;21;01mbaseline_only\u001B[39;00m\u001B[38;5;250m \u001B[39m\u001B[38;5;28;01mimport\u001B[39;00m BaselineOnly\n\u001B[1;32m     25\u001B[0m \u001B[38;5;28;01mfrom\u001B[39;00m\u001B[38;5;250m \u001B[39m\u001B[38;5;21;01m.\u001B[39;00m\u001B[38;5;21;01mco_clustering\u001B[39;00m\u001B[38;5;250m \u001B[39m\u001B[38;5;28;01mimport\u001B[39;00m CoClustering\n",
      "File \u001B[0;32m~/Desktop/openclassroom/projets/content_recom/.venv/lib/python3.10/site-packages/surprise/prediction_algorithms/algo_base.py:8\u001B[0m\n\u001B[1;32m      1\u001B[0m \u001B[38;5;124;03m\"\"\"\u001B[39;00m\n\u001B[1;32m      2\u001B[0m \u001B[38;5;124;03mThe :mod:`surprise.prediction_algorithms.algo_base` module defines the base\u001B[39;00m\n\u001B[1;32m      3\u001B[0m \u001B[38;5;124;03mclass :class:`AlgoBase` from which every single prediction algorithm has to\u001B[39;00m\n\u001B[1;32m      4\u001B[0m \u001B[38;5;124;03minherit.\u001B[39;00m\n\u001B[1;32m      5\u001B[0m \u001B[38;5;124;03m\"\"\"\u001B[39;00m\n\u001B[1;32m      6\u001B[0m \u001B[38;5;28;01mimport\u001B[39;00m\u001B[38;5;250m \u001B[39m\u001B[38;5;21;01mheapq\u001B[39;00m\n\u001B[0;32m----> 8\u001B[0m \u001B[38;5;28;01mfrom\u001B[39;00m\u001B[38;5;250m \u001B[39m\u001B[38;5;21;01m.\u001B[39;00m\u001B[38;5;21;01m.\u001B[39;00m\u001B[38;5;250m \u001B[39m\u001B[38;5;28;01mimport\u001B[39;00m similarities \u001B[38;5;28;01mas\u001B[39;00m sims\n\u001B[1;32m      9\u001B[0m \u001B[38;5;28;01mfrom\u001B[39;00m\u001B[38;5;250m \u001B[39m\u001B[38;5;21;01m.\u001B[39;00m\u001B[38;5;21;01moptimize_baselines\u001B[39;00m\u001B[38;5;250m \u001B[39m\u001B[38;5;28;01mimport\u001B[39;00m baseline_als, baseline_sgd\n\u001B[1;32m     10\u001B[0m \u001B[38;5;28;01mfrom\u001B[39;00m\u001B[38;5;250m \u001B[39m\u001B[38;5;21;01m.\u001B[39;00m\u001B[38;5;21;01mpredictions\u001B[39;00m\u001B[38;5;250m \u001B[39m\u001B[38;5;28;01mimport\u001B[39;00m Prediction, PredictionImpossible\n",
      "File \u001B[0;32m~/Desktop/openclassroom/projets/content_recom/.venv/lib/python3.10/site-packages/surprise/similarities.pyx:1\u001B[0m, in \u001B[0;36minit surprise.similarities\u001B[0;34m()\u001B[0m\n",
      "\u001B[0;31mImportError\u001B[0m: numpy.core.multiarray failed to import (auto-generated because you didn't call 'numpy.import_array()' after cimporting numpy; use '<void>numpy._import_array' to disable if you are certain you don't need it)."
     ]
    }
   ],
   "execution_count": 31
  },
  {
   "metadata": {},
   "cell_type": "code",
   "outputs": [],
   "execution_count": null,
   "source": "",
   "id": "e9b0b8d8fdc04c57"
  }
 ],
 "metadata": {
  "kernelspec": {
   "display_name": "Python 3",
   "language": "python",
   "name": "python3"
  },
  "language_info": {
   "codemirror_mode": {
    "name": "ipython",
    "version": 2
   },
   "file_extension": ".py",
   "mimetype": "text/x-python",
   "name": "python",
   "nbconvert_exporter": "python",
   "pygments_lexer": "ipython2",
   "version": "2.7.6"
  }
 },
 "nbformat": 4,
 "nbformat_minor": 5
}
